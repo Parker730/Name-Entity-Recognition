{
  "nbformat": 4,
  "nbformat_minor": 0,
  "metadata": {
    "colab": {
      "provenance": [],
      "collapsed_sections": [],
      "authorship_tag": "ABX9TyN255c8VsLj9ut9kin40xq8"
    },
    "kernelspec": {
      "name": "python3",
      "display_name": "Python 3"
    },
    "language_info": {
      "name": "python"
    }
  },
  "cells": [
    {
      "cell_type": "code",
      "execution_count": 1,
      "metadata": {
        "id": "c_JRwUKv0moE"
      },
      "outputs": [],
      "source": [
        "import spacy\n",
        "nlp = spacy.load('en_core_web_sm') # small English pipeline - english core web small a small english pipeline which is trained on written web text (blogs, news, comments) and such and such"
      ]
    },
    {
      "cell_type": "code",
      "source": [],
      "metadata": {
        "id": "bbsYREA29tVU"
      },
      "execution_count": null,
      "outputs": []
    },
    {
      "cell_type": "code",
      "source": [
        "# A function to display basic entity info:\n",
        "def show_ents(doc):\n",
        "  if doc.ents:\n",
        "    for ent in doc.ents:\n",
        "      print(ent.text+'-'\n",
        "      +str(ent.start_char)+\n",
        "      '-'+str(ent.end_char)+\n",
        "      '-'+ent.label_+\n",
        "      '-'+str(spacy.explain(ent.label_)))\n"
      ],
      "metadata": {
        "id": "S7QbYeFe1T02"
      },
      "execution_count": 8,
      "outputs": []
    },
    {
      "cell_type": "code",
      "source": [
        "doc1 = nlp(\"Elon Musk wanted to buy Twitter for 400 million dollars.\")\n",
        "show_ents(doc1)"
      ],
      "metadata": {
        "colab": {
          "base_uri": "https://localhost:8080/"
        },
        "id": "3c_6L4734vdW",
        "outputId": "ff483ee2-6a5d-4871-895b-7b1c168c8c62"
      },
      "execution_count": 29,
      "outputs": [
        {
          "output_type": "stream",
          "name": "stdout",
          "text": [
            "Elon Musk-0-9-PERSON-People, including fictional\n",
            "400 million dollars-36-55-MONEY-Monetary values, including unit\n"
          ]
        }
      ]
    },
    {
      "cell_type": "code",
      "source": [
        "# Since Twitter wasn't an organization when SpaCy was being trained it won't tag it as some kind of Entity\n",
        "# I'll include it here by myself\n",
        "from spacy.tokens import Span\n",
        "ORG = doc1.vocab.strings[u'ORG'] #getting the hash value of the ORG entity label\n",
        "new_entity = Span(doc1, 5, 6, label = ORG) # Create a span for the new entity and pass the hash value of the variable in it\n",
        "doc1.ents = list(doc1.ents) + [new_entity] # Add the entity to the existing doc object\n",
        "show_ents(doc1)"
      ],
      "metadata": {
        "colab": {
          "base_uri": "https://localhost:8080/"
        },
        "id": "ZDD7ApwxB7UN",
        "outputId": "921f75e1-52f0-4442-f415-18a432f834c9"
      },
      "execution_count": 30,
      "outputs": [
        {
          "output_type": "stream",
          "name": "stdout",
          "text": [
            "Elon Musk-0-9-PERSON-People, including fictional\n",
            "Twitter-24-31-ORG-Companies, agencies, institutions, etc.\n",
            "400 million dollars-36-55-MONEY-Monetary values, including unit\n"
          ]
        }
      ]
    },
    {
      "cell_type": "code",
      "source": [
        "doc2 = nlp(\"Russia is at war with Ukraine since early 2022\")\n",
        "for ent in doc2.ents:\n",
        "  print(ent.text, ent.label_, spacy.explain(ent.label_))"
      ],
      "metadata": {
        "colab": {
          "base_uri": "https://localhost:8080/"
        },
        "id": "-lNNVErE6qSQ",
        "outputId": "d974371a-6a02-431b-b244-5dbd8b27af6f"
      },
      "execution_count": 16,
      "outputs": [
        {
          "output_type": "stream",
          "name": "stdout",
          "text": [
            "Russia GPE Countries, cities, states\n",
            "Ukraine GPE Countries, cities, states\n",
            "early 2022 DATE Absolute or relative dates or periods\n"
          ]
        }
      ]
    },
    {
      "cell_type": "code",
      "source": [
        "# Using a List compreshenssion\n",
        "entities = [(ent.text, ent.label_, spacy.explain(ent.label_)) for ent in doc2.ents]"
      ],
      "metadata": {
        "id": "FhTdEwq49fP3"
      },
      "execution_count": 21,
      "outputs": []
    },
    {
      "cell_type": "code",
      "source": [
        "from spacy import displacy"
      ],
      "metadata": {
        "id": "fZMG4wYR-1A2"
      },
      "execution_count": 32,
      "outputs": []
    },
    {
      "cell_type": "code",
      "source": [
        "text = \"\"\"Reinforcement learning is an area of Machine Learning. It is about taking suitable action to maximize reward in a particular situation. It is employed by various software and machines to find the best possible behavior or path it should take in a specific situation. Reinforcement learning differs from supervised learning in a way that in supervised learning the training data has the answer key with it so the model is trained with the correct answer itself whereas in reinforcement learning, there is no answer but the reinforcement agent decides what to do to perform the given task. In the absence of a training dataset, it is bound to learn from its experience. \n",
        "\n",
        "Example: The problem is as follows: We have an agent and a reward, with many hurdles in between. The agent is supposed to find the best possible path to reach the reward. \"\"\"\n",
        "doc = nlp(text)\n",
        "displacy.render(doc, style = 'ent', jupyter = True)"
      ],
      "metadata": {
        "colab": {
          "base_uri": "https://localhost:8080/",
          "height": 227
        },
        "id": "riPSczs5PGsp",
        "outputId": "079ac13b-89a4-432b-aef4-b65f030d5530"
      },
      "execution_count": 33,
      "outputs": [
        {
          "output_type": "display_data",
          "data": {
            "text/plain": [
              "<IPython.core.display.HTML object>"
            ],
            "text/html": [
              "<span class=\"tex2jax_ignore\"><div class=\"entities\" style=\"line-height: 2.5; direction: ltr\">Reinforcement learning is an area of \n",
              "<mark class=\"entity\" style=\"background: #ff9561; padding: 0.45em 0.6em; margin: 0 0.25em; line-height: 1; border-radius: 0.35em;\">\n",
              "    Machine Learning\n",
              "    <span style=\"font-size: 0.8em; font-weight: bold; line-height: 1; border-radius: 0.35em; vertical-align: middle; margin-left: 0.5rem\">LOC</span>\n",
              "</mark>\n",
              ". It is about taking suitable action to maximize reward in a particular situation. It is employed by various software and machines to find the best possible behavior or path it should take in a specific situation. Reinforcement learning differs from supervised learning in a way that in supervised learning the training data has the answer key with it so the model is trained with the correct answer itself whereas in reinforcement learning, there is no answer but the reinforcement agent decides what to do to perform the given task. In the absence of a training dataset, it is bound to learn from its experience. </br></br>Example: The problem is as follows: We have an agent and a reward, with many hurdles in between. The agent is supposed to find the best possible path to reach the reward. </div></span>"
            ]
          },
          "metadata": {}
        }
      ]
    },
    {
      "cell_type": "code",
      "source": [
        "# Lmao there is so much that the spacy english core pipeline isn't trained on."
      ],
      "metadata": {
        "id": "flcixuhxQY4L"
      },
      "execution_count": null,
      "outputs": []
    }
  ]
}